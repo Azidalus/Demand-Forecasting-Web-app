{
 "cells": [
  {
   "cell_type": "code",
   "execution_count": null,
   "metadata": {
    "vscode": {
     "languageId": "plaintext"
    }
   },
   "outputs": [],
   "source": [
    "import pandas as pd\n",
    "import XGBoostRegressor"
   ]
  },
  {
   "cell_type": "code",
   "execution_count": null,
   "metadata": {
    "vscode": {
     "languageId": "plaintext"
    }
   },
   "outputs": [],
   "source": [
    "target_map = data['sales'].to_dict()\n",
    "\n",
    "data['lag1'] = (data['date'] - pd.Timedelta('364 days')).map(target_map)\n",
    "data['lag2'] = (data['date'] - pd.Timedelta('728 days')).map(target_map)\n",
    "data['lag3'] = (data['date'] - pd.Timedelta('1092 days')).map(target_map)"
   ]
  }
 ],
 "metadata": {
  "language_info": {
   "name": "python"
  }
 },
 "nbformat": 4,
 "nbformat_minor": 2
}

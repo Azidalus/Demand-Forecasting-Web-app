{
 "cells": [
  {
   "cell_type": "code",
   "execution_count": 1,
   "metadata": {},
   "outputs": [],
   "source": [
    "import pandas as pd\n",
    "from sklearn.linear_model import LinearRegression, Ridge, Lasso\n",
    "from xgboost import XGBRegressor\n",
    "from sklearn.model_selection import RandomizedSearchCV\n",
    "from sklearn.metrics import root_mean_squared_error, r2_score\n",
    "from sklearn.compose import ColumnTransformer\n",
    "from sklearn.impute import SimpleImputer\n",
    "from sklearn.pipeline import Pipeline\n",
    "from sklearn.preprocessing import StandardScaler\n",
    "from sklearn.model_selection import train_test_split, TimeSeriesSplit, cross_validate, GridSearchCV"
   ]
  },
  {
   "cell_type": "code",
   "execution_count": 45,
   "metadata": {},
   "outputs": [
    {
     "data": {
      "text/html": [
       "<div>\n",
       "<style scoped>\n",
       "    .dataframe tbody tr th:only-of-type {\n",
       "        vertical-align: middle;\n",
       "    }\n",
       "\n",
       "    .dataframe tbody tr th {\n",
       "        vertical-align: top;\n",
       "    }\n",
       "\n",
       "    .dataframe thead th {\n",
       "        text-align: right;\n",
       "    }\n",
       "</style>\n",
       "<table border=\"1\" class=\"dataframe\">\n",
       "  <thead>\n",
       "    <tr style=\"text-align: right;\">\n",
       "      <th></th>\n",
       "      <th>Date</th>\n",
       "      <th>Units</th>\n",
       "      <th>Sales</th>\n",
       "    </tr>\n",
       "  </thead>\n",
       "  <tbody>\n",
       "    <tr>\n",
       "      <th>1088</th>\n",
       "      <td>27/12/2022</td>\n",
       "      <td>7114</td>\n",
       "      <td>22551.38</td>\n",
       "    </tr>\n",
       "    <tr>\n",
       "      <th>1089</th>\n",
       "      <td>28/12/2022</td>\n",
       "      <td>7759</td>\n",
       "      <td>24596.03</td>\n",
       "    </tr>\n",
       "    <tr>\n",
       "      <th>1090</th>\n",
       "      <td>29/12/2022</td>\n",
       "      <td>6457</td>\n",
       "      <td>20468.69</td>\n",
       "    </tr>\n",
       "    <tr>\n",
       "      <th>1091</th>\n",
       "      <td>30/12/2022</td>\n",
       "      <td>7284</td>\n",
       "      <td>23090.28</td>\n",
       "    </tr>\n",
       "    <tr>\n",
       "      <th>1092</th>\n",
       "      <td>31/12/2022</td>\n",
       "      <td>0</td>\n",
       "      <td>0.00</td>\n",
       "    </tr>\n",
       "  </tbody>\n",
       "</table>\n",
       "</div>"
      ],
      "text/plain": [
       "            Date  Units     Sales\n",
       "1088  27/12/2022   7114  22551.38\n",
       "1089  28/12/2022   7759  24596.03\n",
       "1090  29/12/2022   6457  20468.69\n",
       "1091  30/12/2022   7284  23090.28\n",
       "1092  31/12/2022      0      0.00"
      ]
     },
     "execution_count": 45,
     "metadata": {},
     "output_type": "execute_result"
    }
   ],
   "source": [
    "df = pd.read_csv('demo_sales.csv')\n",
    "df.tail()"
   ]
  },
  {
   "cell_type": "markdown",
   "metadata": {},
   "source": [
    "### Create features"
   ]
  },
  {
   "cell_type": "code",
   "execution_count": null,
   "metadata": {},
   "outputs": [],
   "source": [
    "target_map = data['sales'].to_dict()\n",
    "\n",
    "data['lag1'] = (data['date'] - pd.Timedelta('364 days')).map(target_map)\n",
    "data['lag2'] = (data['date'] - pd.Timedelta('728 days')).map(target_map)\n",
    "data['lag3'] = (data['date'] - pd.Timedelta('1092 days')).map(target_map)"
   ]
  },
  {
   "cell_type": "code",
   "execution_count": 49,
   "metadata": {},
   "outputs": [
    {
     "data": {
      "text/html": [
       "<div>\n",
       "<style scoped>\n",
       "    .dataframe tbody tr th:only-of-type {\n",
       "        vertical-align: middle;\n",
       "    }\n",
       "\n",
       "    .dataframe tbody tr th {\n",
       "        vertical-align: top;\n",
       "    }\n",
       "\n",
       "    .dataframe thead th {\n",
       "        text-align: right;\n",
       "    }\n",
       "</style>\n",
       "<table border=\"1\" class=\"dataframe\">\n",
       "  <thead>\n",
       "    <tr style=\"text-align: right;\">\n",
       "      <th></th>\n",
       "      <th>Date</th>\n",
       "      <th>Units</th>\n",
       "      <th>Sales</th>\n",
       "    </tr>\n",
       "  </thead>\n",
       "  <tbody>\n",
       "    <tr>\n",
       "      <th>1088</th>\n",
       "      <td>2022-12-27</td>\n",
       "      <td>7114</td>\n",
       "      <td>22551.38</td>\n",
       "    </tr>\n",
       "    <tr>\n",
       "      <th>1089</th>\n",
       "      <td>2022-12-28</td>\n",
       "      <td>7759</td>\n",
       "      <td>24596.03</td>\n",
       "    </tr>\n",
       "    <tr>\n",
       "      <th>1090</th>\n",
       "      <td>2022-12-29</td>\n",
       "      <td>6457</td>\n",
       "      <td>20468.69</td>\n",
       "    </tr>\n",
       "    <tr>\n",
       "      <th>1091</th>\n",
       "      <td>2022-12-30</td>\n",
       "      <td>7284</td>\n",
       "      <td>23090.28</td>\n",
       "    </tr>\n",
       "    <tr>\n",
       "      <th>1092</th>\n",
       "      <td>2022-12-31</td>\n",
       "      <td>0</td>\n",
       "      <td>0.00</td>\n",
       "    </tr>\n",
       "  </tbody>\n",
       "</table>\n",
       "</div>"
      ],
      "text/plain": [
       "           Date  Units     Sales\n",
       "1088 2022-12-27   7114  22551.38\n",
       "1089 2022-12-28   7759  24596.03\n",
       "1090 2022-12-29   6457  20468.69\n",
       "1091 2022-12-30   7284  23090.28\n",
       "1092 2022-12-31      0      0.00"
      ]
     },
     "execution_count": 49,
     "metadata": {},
     "output_type": "execute_result"
    }
   ],
   "source": [
    "#df['Date'] = df['Date'].str.replace('/', '-').head()\n",
    "df['Date'] = pd.to_datetime(df['Date'], \n",
    "#               errors='ignore', \n",
    "                format='%d/%m/%Y',\n",
    "                dayfirst=True)\n",
    "df.tail()"
   ]
  },
  {
   "cell_type": "code",
   "execution_count": null,
   "metadata": {},
   "outputs": [
    {
     "name": "stdout",
     "output_type": "stream",
     "text": [
      "<class 'pandas.core.frame.DataFrame'>\n",
      "RangeIndex: 1093 entries, 0 to 1092\n",
      "Data columns (total 3 columns):\n",
      " #   Column  Non-Null Count  Dtype         \n",
      "---  ------  --------------  -----         \n",
      " 0   Date    1093 non-null   datetime64[ns]\n",
      " 1   Units   1093 non-null   int64         \n",
      " 2   Sales   1093 non-null   float64       \n",
      "dtypes: datetime64[ns](1), float64(1), int64(1)\n",
      "memory usage: 25.7 KB\n"
     ]
    }
   ],
   "source": [
    "df.info()"
   ]
  },
  {
   "cell_type": "code",
   "execution_count": 51,
   "metadata": {},
   "outputs": [
    {
     "data": {
      "text/html": [
       "<div>\n",
       "<style scoped>\n",
       "    .dataframe tbody tr th:only-of-type {\n",
       "        vertical-align: middle;\n",
       "    }\n",
       "\n",
       "    .dataframe tbody tr th {\n",
       "        vertical-align: top;\n",
       "    }\n",
       "\n",
       "    .dataframe thead th {\n",
       "        text-align: right;\n",
       "    }\n",
       "</style>\n",
       "<table border=\"1\" class=\"dataframe\">\n",
       "  <thead>\n",
       "    <tr style=\"text-align: right;\">\n",
       "      <th></th>\n",
       "      <th>Date</th>\n",
       "    </tr>\n",
       "  </thead>\n",
       "  <tbody>\n",
       "    <tr>\n",
       "      <th>0</th>\n",
       "      <td>2020-01-01</td>\n",
       "    </tr>\n",
       "    <tr>\n",
       "      <th>1</th>\n",
       "      <td>2020-01-02</td>\n",
       "    </tr>\n",
       "    <tr>\n",
       "      <th>2</th>\n",
       "      <td>2020-01-03</td>\n",
       "    </tr>\n",
       "    <tr>\n",
       "      <th>3</th>\n",
       "      <td>2020-01-04</td>\n",
       "    </tr>\n",
       "    <tr>\n",
       "      <th>4</th>\n",
       "      <td>2020-01-05</td>\n",
       "    </tr>\n",
       "    <tr>\n",
       "      <th>...</th>\n",
       "      <td>...</td>\n",
       "    </tr>\n",
       "    <tr>\n",
       "      <th>1088</th>\n",
       "      <td>2022-12-27</td>\n",
       "    </tr>\n",
       "    <tr>\n",
       "      <th>1089</th>\n",
       "      <td>2022-12-28</td>\n",
       "    </tr>\n",
       "    <tr>\n",
       "      <th>1090</th>\n",
       "      <td>2022-12-29</td>\n",
       "    </tr>\n",
       "    <tr>\n",
       "      <th>1091</th>\n",
       "      <td>2022-12-30</td>\n",
       "    </tr>\n",
       "    <tr>\n",
       "      <th>1092</th>\n",
       "      <td>2022-12-31</td>\n",
       "    </tr>\n",
       "  </tbody>\n",
       "</table>\n",
       "<p>1093 rows × 1 columns</p>\n",
       "</div>"
      ],
      "text/plain": [
       "           Date\n",
       "0    2020-01-01\n",
       "1    2020-01-02\n",
       "2    2020-01-03\n",
       "3    2020-01-04\n",
       "4    2020-01-05\n",
       "...         ...\n",
       "1088 2022-12-27\n",
       "1089 2022-12-28\n",
       "1090 2022-12-29\n",
       "1091 2022-12-30\n",
       "1092 2022-12-31\n",
       "\n",
       "[1093 rows x 1 columns]"
      ]
     },
     "execution_count": 51,
     "metadata": {},
     "output_type": "execute_result"
    }
   ],
   "source": [
    "X = df.drop(['Units', 'Sales'], axis=1)\n",
    "y = df['Units']\n",
    "X"
   ]
  },
  {
   "cell_type": "markdown",
   "metadata": {},
   "source": [
    "### Preprocess"
   ]
  },
  {
   "cell_type": "code",
   "execution_count": null,
   "metadata": {},
   "outputs": [],
   "source": [
    "\n",
    "num_features = X\n",
    "\n",
    "preprocessor = ColumnTransformer(\n",
    "    [\n",
    "        ('StandardScaler', StandardScaler(), num_features),\n",
    "    ]\n",
    ") "
   ]
  },
  {
   "cell_type": "code",
   "execution_count": null,
   "metadata": {},
   "outputs": [],
   "source": [
    "X = preprocessor.fit_transform()"
   ]
  },
  {
   "cell_type": "markdown",
   "metadata": {},
   "source": [
    "### Evaluate models"
   ]
  },
  {
   "cell_type": "code",
   "execution_count": null,
   "metadata": {},
   "outputs": [
    {
     "ename": "NameError",
     "evalue": "name 'LinearRegression' is not defined",
     "output_type": "error",
     "traceback": [
      "\u001b[1;31m---------------------------------------------------------------------------\u001b[0m",
      "\u001b[1;31mNameError\u001b[0m                                 Traceback (most recent call last)",
      "Cell \u001b[1;32mIn[2], line 7\u001b[0m\n\u001b[0;32m      3\u001b[0m     r2 \u001b[38;5;241m=\u001b[39m r2_score(y_true, y_pred)\n\u001b[0;32m      4\u001b[0m     \u001b[38;5;28;01mreturn\u001b[39;00m rmse, r2\n\u001b[0;32m      6\u001b[0m models \u001b[38;5;241m=\u001b[39m {\n\u001b[1;32m----> 7\u001b[0m     \u001b[38;5;124m'\u001b[39m\u001b[38;5;124mLinearRegression\u001b[39m\u001b[38;5;124m'\u001b[39m: LinearRegression(),\n\u001b[0;32m      8\u001b[0m     \u001b[38;5;124m'\u001b[39m\u001b[38;5;124mLasso\u001b[39m\u001b[38;5;124m'\u001b[39m: Lasso(),\n\u001b[0;32m      9\u001b[0m     \u001b[38;5;124m'\u001b[39m\u001b[38;5;124mRidge\u001b[39m\u001b[38;5;124m'\u001b[39m: Ridge(),\n\u001b[0;32m     10\u001b[0m     \u001b[38;5;124m'\u001b[39m\u001b[38;5;124mXGBRegressor\u001b[39m\u001b[38;5;124m'\u001b[39m: XGBRegressor()\n\u001b[0;32m     11\u001b[0m }\n",
      "\u001b[1;31mNameError\u001b[0m: name 'LinearRegression' is not defined"
     ]
    }
   ],
   "source": [
    "def evaluate_model(y_true, y_pred):\n",
    "    rmse = root_mean_squared_error(y_true, y_pred)\n",
    "    r2 = r2_score(y_true, y_pred)\n",
    "    return rmse, r2"
   ]
  },
  {
   "cell_type": "code",
   "execution_count": null,
   "metadata": {},
   "outputs": [],
   "source": [
    "models = {\n",
    "    'LinearRegression': LinearRegression(),\n",
    "    'Lasso': Lasso(),\n",
    "    'Ridge': Ridge(),\n",
    "    'XGBRegressor': XGBRegressor()\n",
    "}\n",
    "\n",
    "model_list = []\n",
    "r2_list = []\n",
    "rmse_list = []\n",
    "results = []\n",
    "param_grid = {'': [0, 1]}\n",
    "\n",
    "\n",
    "for model_name, model in models.items():\n",
    "    time_series_split = TimeSeriesSplit(n_splits=6)\n",
    "    cv_scores = cross_validate(model, X, y, cv=time_series_split)\n",
    "    #cv_results = cross_val_score(model, X_train, y_train, cv=cv)\n",
    "    \n",
    "    # Fine tune hyperparams\n",
    "    gs = GridSearchCV(model, cv=time_series_split, param_grid=param_grid)\n",
    "    gs.fit(X, y)\n",
    "    results.append(cv_scores['test_score'].mean())\n",
    "\n",
    "    #train_rmse, train_r2 = evaluate_model() # ???\n",
    "    #y_pred_test = model.predict(X_test)\n",
    "    #test_rmse, test_r2 = evaluate_model(y_test, y_pred_test)\n",
    "    print(model_name)\n",
    "    print('Model performance for Training set')\n",
    "    print(f'- RMSE: {train_rmse}')\n",
    "    print(f'- R2: {train_r2}')\n",
    "    print('-----------------------------')\n",
    "    print('Model performance for Test set')\n",
    "    print(f'- RMSE: {test_rmse}')\n",
    "    print(f'- R2: {test_r2}')\n",
    "\n",
    "plt.boxplot(results, labels=models.keys())\n",
    "plt.show()"
   ]
  },
  {
   "cell_type": "code",
   "execution_count": null,
   "metadata": {},
   "outputs": [
    {
     "ename": "InvalidParameterError",
     "evalue": "The 'scoring' parameter of GridSearchCV must be a str among {'completeness_score', 'd2_absolute_error_score', 'roc_auc_ovo', 'f1_weighted', 'top_k_accuracy', 'accuracy', 'precision_samples', 'recall_samples', 'roc_auc_ovr_weighted', 'rand_score', 'adjusted_mutual_info_score', 'average_precision', 'neg_mean_squared_error', 'jaccard_micro', 'adjusted_rand_score', 'neg_max_error', 'normalized_mutual_info_score', 'neg_mean_absolute_error', 'recall_micro', 'recall_weighted', 'neg_log_loss', 'v_measure_score', 'f1_samples', 'recall', 'neg_median_absolute_error', 'matthews_corrcoef', 'homogeneity_score', 'f1_micro', 'neg_mean_squared_log_error', 'roc_auc_ovo_weighted', 'jaccard', 'precision_macro', 'neg_mean_gamma_deviance', 'fowlkes_mallows_score', 'neg_mean_poisson_deviance', 'neg_mean_absolute_percentage_error', 'neg_negative_likelihood_ratio', 'precision_micro', 'roc_auc', 'precision', 'mutual_info_score', 'r2', 'precision_weighted', 'balanced_accuracy', 'neg_brier_score', 'neg_root_mean_squared_log_error', 'explained_variance', 'positive_likelihood_ratio', 'recall_macro', 'jaccard_macro', 'neg_root_mean_squared_error', 'jaccard_weighted', 'f1', 'roc_auc_ovr', 'jaccard_samples', 'f1_macro'}, a callable, an instance of 'list', an instance of 'tuple', an instance of 'dict' or None. Got 'root_mean_squared_error' instead.",
     "output_type": "error",
     "traceback": [
      "\u001b[1;31m---------------------------------------------------------------------------\u001b[0m",
      "\u001b[1;31mInvalidParameterError\u001b[0m                     Traceback (most recent call last)",
      "Cell \u001b[1;32mIn[52], line 12\u001b[0m\n\u001b[0;32m     10\u001b[0m \u001b[38;5;66;03m# Perform randomized grid search on train data and find best params\u001b[39;00m\n\u001b[0;32m     11\u001b[0m gs \u001b[38;5;241m=\u001b[39m GridSearchCV(model, param_grid, cv\u001b[38;5;241m=\u001b[39mtime_series_split, scoring\u001b[38;5;241m=\u001b[39m\u001b[38;5;124m'\u001b[39m\u001b[38;5;124mroot_mean_squared_error\u001b[39m\u001b[38;5;124m'\u001b[39m)\n\u001b[1;32m---> 12\u001b[0m gs\u001b[38;5;241m.\u001b[39mfit(X, y)\n\u001b[0;32m     14\u001b[0m \u001b[38;5;28mprint\u001b[39m(\u001b[38;5;124m\"\u001b[39m\u001b[38;5;124mBest CV score: \u001b[39m\u001b[38;5;124m\"\u001b[39m, gs\u001b[38;5;241m.\u001b[39mbest_score_)\n",
      "File \u001b[1;32mc:\\Users\\Vector\\Documents\\GitHub\\Demand-Forecasting-Web-app\\venv\\Lib\\site-packages\\sklearn\\base.py:1382\u001b[0m, in \u001b[0;36m_fit_context.<locals>.decorator.<locals>.wrapper\u001b[1;34m(estimator, *args, **kwargs)\u001b[0m\n\u001b[0;32m   1377\u001b[0m partial_fit_and_fitted \u001b[38;5;241m=\u001b[39m (\n\u001b[0;32m   1378\u001b[0m     fit_method\u001b[38;5;241m.\u001b[39m\u001b[38;5;18m__name__\u001b[39m \u001b[38;5;241m==\u001b[39m \u001b[38;5;124m\"\u001b[39m\u001b[38;5;124mpartial_fit\u001b[39m\u001b[38;5;124m\"\u001b[39m \u001b[38;5;129;01mand\u001b[39;00m _is_fitted(estimator)\n\u001b[0;32m   1379\u001b[0m )\n\u001b[0;32m   1381\u001b[0m \u001b[38;5;28;01mif\u001b[39;00m \u001b[38;5;129;01mnot\u001b[39;00m global_skip_validation \u001b[38;5;129;01mand\u001b[39;00m \u001b[38;5;129;01mnot\u001b[39;00m partial_fit_and_fitted:\n\u001b[1;32m-> 1382\u001b[0m     estimator\u001b[38;5;241m.\u001b[39m_validate_params()\n\u001b[0;32m   1384\u001b[0m \u001b[38;5;28;01mwith\u001b[39;00m config_context(\n\u001b[0;32m   1385\u001b[0m     skip_parameter_validation\u001b[38;5;241m=\u001b[39m(\n\u001b[0;32m   1386\u001b[0m         prefer_skip_nested_validation \u001b[38;5;129;01mor\u001b[39;00m global_skip_validation\n\u001b[0;32m   1387\u001b[0m     )\n\u001b[0;32m   1388\u001b[0m ):\n\u001b[0;32m   1389\u001b[0m     \u001b[38;5;28;01mreturn\u001b[39;00m fit_method(estimator, \u001b[38;5;241m*\u001b[39margs, \u001b[38;5;241m*\u001b[39m\u001b[38;5;241m*\u001b[39mkwargs)\n",
      "File \u001b[1;32mc:\\Users\\Vector\\Documents\\GitHub\\Demand-Forecasting-Web-app\\venv\\Lib\\site-packages\\sklearn\\base.py:436\u001b[0m, in \u001b[0;36mBaseEstimator._validate_params\u001b[1;34m(self)\u001b[0m\n\u001b[0;32m    428\u001b[0m \u001b[38;5;28;01mdef\u001b[39;00m \u001b[38;5;21m_validate_params\u001b[39m(\u001b[38;5;28mself\u001b[39m):\n\u001b[0;32m    429\u001b[0m \u001b[38;5;250m    \u001b[39m\u001b[38;5;124;03m\"\"\"Validate types and values of constructor parameters\u001b[39;00m\n\u001b[0;32m    430\u001b[0m \n\u001b[0;32m    431\u001b[0m \u001b[38;5;124;03m    The expected type and values must be defined in the `_parameter_constraints`\u001b[39;00m\n\u001b[1;32m   (...)\u001b[0m\n\u001b[0;32m    434\u001b[0m \u001b[38;5;124;03m    accepted constraints.\u001b[39;00m\n\u001b[0;32m    435\u001b[0m \u001b[38;5;124;03m    \"\"\"\u001b[39;00m\n\u001b[1;32m--> 436\u001b[0m     validate_parameter_constraints(\n\u001b[0;32m    437\u001b[0m         \u001b[38;5;28mself\u001b[39m\u001b[38;5;241m.\u001b[39m_parameter_constraints,\n\u001b[0;32m    438\u001b[0m         \u001b[38;5;28mself\u001b[39m\u001b[38;5;241m.\u001b[39mget_params(deep\u001b[38;5;241m=\u001b[39m\u001b[38;5;28;01mFalse\u001b[39;00m),\n\u001b[0;32m    439\u001b[0m         caller_name\u001b[38;5;241m=\u001b[39m\u001b[38;5;28mself\u001b[39m\u001b[38;5;241m.\u001b[39m\u001b[38;5;18m__class__\u001b[39m\u001b[38;5;241m.\u001b[39m\u001b[38;5;18m__name__\u001b[39m,\n\u001b[0;32m    440\u001b[0m     )\n",
      "File \u001b[1;32mc:\\Users\\Vector\\Documents\\GitHub\\Demand-Forecasting-Web-app\\venv\\Lib\\site-packages\\sklearn\\utils\\_param_validation.py:98\u001b[0m, in \u001b[0;36mvalidate_parameter_constraints\u001b[1;34m(parameter_constraints, params, caller_name)\u001b[0m\n\u001b[0;32m     92\u001b[0m \u001b[38;5;28;01melse\u001b[39;00m:\n\u001b[0;32m     93\u001b[0m     constraints_str \u001b[38;5;241m=\u001b[39m (\n\u001b[0;32m     94\u001b[0m         \u001b[38;5;124mf\u001b[39m\u001b[38;5;124m\"\u001b[39m\u001b[38;5;132;01m{\u001b[39;00m\u001b[38;5;124m'\u001b[39m\u001b[38;5;124m, \u001b[39m\u001b[38;5;124m'\u001b[39m\u001b[38;5;241m.\u001b[39mjoin([\u001b[38;5;28mstr\u001b[39m(c)\u001b[38;5;250m \u001b[39m\u001b[38;5;28;01mfor\u001b[39;00m\u001b[38;5;250m \u001b[39mc\u001b[38;5;250m \u001b[39m\u001b[38;5;129;01min\u001b[39;00m\u001b[38;5;250m \u001b[39mconstraints[:\u001b[38;5;241m-\u001b[39m\u001b[38;5;241m1\u001b[39m]])\u001b[38;5;132;01m}\u001b[39;00m\u001b[38;5;124m or\u001b[39m\u001b[38;5;124m\"\u001b[39m\n\u001b[0;32m     95\u001b[0m         \u001b[38;5;124mf\u001b[39m\u001b[38;5;124m\"\u001b[39m\u001b[38;5;124m \u001b[39m\u001b[38;5;132;01m{\u001b[39;00mconstraints[\u001b[38;5;241m-\u001b[39m\u001b[38;5;241m1\u001b[39m]\u001b[38;5;132;01m}\u001b[39;00m\u001b[38;5;124m\"\u001b[39m\n\u001b[0;32m     96\u001b[0m     )\n\u001b[1;32m---> 98\u001b[0m \u001b[38;5;28;01mraise\u001b[39;00m InvalidParameterError(\n\u001b[0;32m     99\u001b[0m     \u001b[38;5;124mf\u001b[39m\u001b[38;5;124m\"\u001b[39m\u001b[38;5;124mThe \u001b[39m\u001b[38;5;132;01m{\u001b[39;00mparam_name\u001b[38;5;132;01m!r}\u001b[39;00m\u001b[38;5;124m parameter of \u001b[39m\u001b[38;5;132;01m{\u001b[39;00mcaller_name\u001b[38;5;132;01m}\u001b[39;00m\u001b[38;5;124m must be\u001b[39m\u001b[38;5;124m\"\u001b[39m\n\u001b[0;32m    100\u001b[0m     \u001b[38;5;124mf\u001b[39m\u001b[38;5;124m\"\u001b[39m\u001b[38;5;124m \u001b[39m\u001b[38;5;132;01m{\u001b[39;00mconstraints_str\u001b[38;5;132;01m}\u001b[39;00m\u001b[38;5;124m. Got \u001b[39m\u001b[38;5;132;01m{\u001b[39;00mparam_val\u001b[38;5;132;01m!r}\u001b[39;00m\u001b[38;5;124m instead.\u001b[39m\u001b[38;5;124m\"\u001b[39m\n\u001b[0;32m    101\u001b[0m )\n",
      "\u001b[1;31mInvalidParameterError\u001b[0m: The 'scoring' parameter of GridSearchCV must be a str among {'completeness_score', 'd2_absolute_error_score', 'roc_auc_ovo', 'f1_weighted', 'top_k_accuracy', 'accuracy', 'precision_samples', 'recall_samples', 'roc_auc_ovr_weighted', 'rand_score', 'adjusted_mutual_info_score', 'average_precision', 'neg_mean_squared_error', 'jaccard_micro', 'adjusted_rand_score', 'neg_max_error', 'normalized_mutual_info_score', 'neg_mean_absolute_error', 'recall_micro', 'recall_weighted', 'neg_log_loss', 'v_measure_score', 'f1_samples', 'recall', 'neg_median_absolute_error', 'matthews_corrcoef', 'homogeneity_score', 'f1_micro', 'neg_mean_squared_log_error', 'roc_auc_ovo_weighted', 'jaccard', 'precision_macro', 'neg_mean_gamma_deviance', 'fowlkes_mallows_score', 'neg_mean_poisson_deviance', 'neg_mean_absolute_percentage_error', 'neg_negative_likelihood_ratio', 'precision_micro', 'roc_auc', 'precision', 'mutual_info_score', 'r2', 'precision_weighted', 'balanced_accuracy', 'neg_brier_score', 'neg_root_mean_squared_log_error', 'explained_variance', 'positive_likelihood_ratio', 'recall_macro', 'jaccard_macro', 'neg_root_mean_squared_error', 'jaccard_weighted', 'f1', 'roc_auc_ovr', 'jaccard_samples', 'f1_macro'}, a callable, an instance of 'list', an instance of 'tuple', an instance of 'dict' or None. Got 'root_mean_squared_error' instead."
     ]
    }
   ],
   "source": [
    "import numpy as np\n",
    "#para = param[LinearRegression()]\n",
    "# or this, not sure \n",
    "param_grid = {'learning_rate': [0.01, 0.1, 0.5, 0.9],\n",
    "              'n_estimators': [100,200,400]\n",
    "}\n",
    "time_series_split = TimeSeriesSplit(test_size=90)\n",
    "\n",
    "#model = LinearRegression()\n",
    "model = XGBRegressor()\n",
    "# Perform randomized grid search on train data and find best params\n",
    "gs = GridSearchCV(model, param_grid, cv=time_series_split, scoring='neg_root_mean_squared_error')\n",
    "gs.fit(X, y)\n",
    "\n",
    "print(\"Best CV score: \", np.abs(gs.best_score_))\n",
    "\n",
    "#model.set_params(**gs.best_params_)\n",
    "#gs.best_score_\n",
    "\n",
    "#cv_scores = cross_validate(model, X, y, cv=time_series_split)\n",
    "#print(\"CV score: \", cv_scores['test_score'].mean())"
   ]
  },
  {
   "cell_type": "code",
   "execution_count": null,
   "metadata": {},
   "outputs": [],
   "source": []
  }
 ],
 "metadata": {
  "kernelspec": {
   "display_name": "Python 3",
   "language": "python",
   "name": "python3"
  },
  "language_info": {
   "codemirror_mode": {
    "name": "ipython",
    "version": 3
   },
   "file_extension": ".py",
   "mimetype": "text/x-python",
   "name": "python",
   "nbconvert_exporter": "python",
   "pygments_lexer": "ipython3",
   "version": "3.11.11"
  }
 },
 "nbformat": 4,
 "nbformat_minor": 2
}
